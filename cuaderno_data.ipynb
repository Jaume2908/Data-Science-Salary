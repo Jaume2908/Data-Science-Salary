{
 "cells": [
  {
   "cell_type": "code",
   "execution_count": 5,
   "metadata": {},
   "outputs": [],
   "source": [
    "import pandas as pd\n",
    "import numpy as np"
   ]
  },
  {
   "cell_type": "markdown",
   "metadata": {},
   "source": [
    "### **1 - En primer lugar tenemos que leer la base de datos**\n",
    "\n",
    "En nuestro caso es un csv y usaremos el método de pandas:\n",
    "```Python\n",
    "pd.read_csv(\"Aquí escribiremos donde está el archivo\")\n",
    "```\n"
   ]
  },
  {
   "cell_type": "code",
   "execution_count": 12,
   "metadata": {},
   "outputs": [
    {
     "data": {
      "text/plain": [
       "pandas.core.frame.DataFrame"
      ]
     },
     "execution_count": 12,
     "metadata": {},
     "output_type": "execute_result"
    }
   ],
   "source": [
    "df = pd.read_csv('data\\ds_salaries.csv') #generalmente guardamos la base de datos en una variable df (dataframe)\n",
    "type(df)"
   ]
  },
  {
   "cell_type": "markdown",
   "metadata": {},
   "source": [
    "Para comprobar que se ha cargado bien la base de datos con el método \".head\" mostraremos las filas que introduzcamos en el paréntesis\n"
   ]
  },
  {
   "cell_type": "code",
   "execution_count": 7,
   "metadata": {},
   "outputs": [
    {
     "data": {
      "text/html": [
       "<div>\n",
       "<style scoped>\n",
       "    .dataframe tbody tr th:only-of-type {\n",
       "        vertical-align: middle;\n",
       "    }\n",
       "\n",
       "    .dataframe tbody tr th {\n",
       "        vertical-align: top;\n",
       "    }\n",
       "\n",
       "    .dataframe thead th {\n",
       "        text-align: right;\n",
       "    }\n",
       "</style>\n",
       "<table border=\"1\" class=\"dataframe\">\n",
       "  <thead>\n",
       "    <tr style=\"text-align: right;\">\n",
       "      <th></th>\n",
       "      <th>work_year</th>\n",
       "      <th>experience_level</th>\n",
       "      <th>employment_type</th>\n",
       "      <th>job_title</th>\n",
       "      <th>salary</th>\n",
       "      <th>salary_currency</th>\n",
       "      <th>salary_in_usd</th>\n",
       "      <th>employee_residence</th>\n",
       "      <th>remote_ratio</th>\n",
       "      <th>company_location</th>\n",
       "      <th>company_size</th>\n",
       "    </tr>\n",
       "  </thead>\n",
       "  <tbody>\n",
       "    <tr>\n",
       "      <th>0</th>\n",
       "      <td>2023</td>\n",
       "      <td>SE</td>\n",
       "      <td>FT</td>\n",
       "      <td>Principal Data Scientist</td>\n",
       "      <td>80000</td>\n",
       "      <td>EUR</td>\n",
       "      <td>85847</td>\n",
       "      <td>ES</td>\n",
       "      <td>100</td>\n",
       "      <td>ES</td>\n",
       "      <td>L</td>\n",
       "    </tr>\n",
       "    <tr>\n",
       "      <th>1</th>\n",
       "      <td>2023</td>\n",
       "      <td>MI</td>\n",
       "      <td>CT</td>\n",
       "      <td>ML Engineer</td>\n",
       "      <td>30000</td>\n",
       "      <td>USD</td>\n",
       "      <td>30000</td>\n",
       "      <td>US</td>\n",
       "      <td>100</td>\n",
       "      <td>US</td>\n",
       "      <td>S</td>\n",
       "    </tr>\n",
       "    <tr>\n",
       "      <th>2</th>\n",
       "      <td>2023</td>\n",
       "      <td>MI</td>\n",
       "      <td>CT</td>\n",
       "      <td>ML Engineer</td>\n",
       "      <td>25500</td>\n",
       "      <td>USD</td>\n",
       "      <td>25500</td>\n",
       "      <td>US</td>\n",
       "      <td>100</td>\n",
       "      <td>US</td>\n",
       "      <td>S</td>\n",
       "    </tr>\n",
       "  </tbody>\n",
       "</table>\n",
       "</div>"
      ],
      "text/plain": [
       "   work_year experience_level employment_type                 job_title  \\\n",
       "0       2023               SE              FT  Principal Data Scientist   \n",
       "1       2023               MI              CT               ML Engineer   \n",
       "2       2023               MI              CT               ML Engineer   \n",
       "\n",
       "   salary salary_currency  salary_in_usd employee_residence  remote_ratio  \\\n",
       "0   80000             EUR          85847                 ES           100   \n",
       "1   30000             USD          30000                 US           100   \n",
       "2   25500             USD          25500                 US           100   \n",
       "\n",
       "  company_location company_size  \n",
       "0               ES            L  \n",
       "1               US            S  \n",
       "2               US            S  "
      ]
     },
     "execution_count": 7,
     "metadata": {},
     "output_type": "execute_result"
    }
   ],
   "source": [
    "df.head(3) "
   ]
  },
  {
   "cell_type": "markdown",
   "metadata": {},
   "source": [
    "Al invocar las 3 primeras filas no es necesario que introduzcamos las letras __'pd'__ ya que estamos trabajando **sobre un data frame** y head() es un método propio de un objeto __dataframe__\n",
    "\n",
    "###### Diferencia entre funciones y métodos en pandas:\n",
    "- **Funciones de la librería (pd como prefijo)**: Cuando utilizas pandas, algunas funcionalidades son funciones globales que requieren usar el prefijo pd para invocarlas, como en el caso de pd.read_csv(). Esto se debe a que read_csv() es una función de pandas, y no es parte del DataFrame o Series. Necesitas usar pd para acceder a ella, ya que estás llamando a una función que está en el espacio de nombres de la librería pandas.\n",
    "    ``` Python\n",
    "    df = pd.read_csv('data\\ds_salaries.csv')\n",
    "    ```\n",
    "- **Métodos del objeto DataFrame o Series**: En cambio, head() es un método de un objeto DataFrame o Series. Cuando creas un DataFrame al leer un archivo con pd.read_csv(), el objeto df se convierte en una instancia de la clase DataFrame, y dicha clase tiene métodos como head(), tail(), describe(), etc.\n",
    "\n",
    "Como estos métodos pertenecen a la clase DataFrame, puedes llamarlos directamente sobre la instancia (df en este caso), sin necesidad de usar el prefijo pd.\n"
   ]
  },
  {
   "cell_type": "code",
   "execution_count": 13,
   "metadata": {},
   "outputs": [
    {
     "data": {
      "text/plain": [
       "Index(['work_year', 'experience_level', 'employment_type', 'job_title',\n",
       "       'salary', 'salary_currency', 'salary_in_usd', 'employee_residence',\n",
       "       'remote_ratio', 'company_location', 'company_size'],\n",
       "      dtype='object')"
      ]
     },
     "execution_count": 13,
     "metadata": {},
     "output_type": "execute_result"
    }
   ],
   "source": [
    "df.columns #saber las columnas"
   ]
  },
  {
   "cell_type": "code",
   "execution_count": 17,
   "metadata": {},
   "outputs": [
    {
     "data": {
      "text/plain": [
       "(3755, 11)"
      ]
     },
     "execution_count": 17,
     "metadata": {},
     "output_type": "execute_result"
    }
   ],
   "source": [
    "df.shape #saber las dimensiones"
   ]
  },
  {
   "cell_type": "code",
   "execution_count": 19,
   "metadata": {},
   "outputs": [
    {
     "data": {
      "text/plain": [
       "work_year              int64\n",
       "experience_level      object\n",
       "employment_type       object\n",
       "job_title             object\n",
       "salary                 int64\n",
       "salary_currency       object\n",
       "salary_in_usd          int64\n",
       "employee_residence    object\n",
       "remote_ratio           int64\n",
       "company_location      object\n",
       "company_size          object\n",
       "dtype: object"
      ]
     },
     "execution_count": 19,
     "metadata": {},
     "output_type": "execute_result"
    }
   ],
   "source": [
    "df.dtypes #saber los tipos de datos\n",
    "\n",
    "#siempre que veamos un objeto en un dtype es un string"
   ]
  },
  {
   "cell_type": "markdown",
   "metadata": {},
   "source": [
    "Ahora sabemos los encabezados, las dimensaiones de la DB y los tipos de datos"
   ]
  },
  {
   "cell_type": "markdown",
   "metadata": {},
   "source": [
    "### 2 - **Saber que datos nulos tenemos aquí dentro:**\n",
    "\n",
    "Para eso usaremos \n",
    "```Python \n",
    "df.isnull().sum() \n",
    "```\n",
    "para saber la cantidad de dartos nulos que tenemos en cada columna\n",
    "\n",
    "Los valores nulos se muestran como ***\"NaN\"*** que es una abreviatura de ***\"Not a Number\"***\n",
    "\n",
    "\n",
    "Más adelante podremos usar algoritmos de vecinos kNN para arreglar estos valores solos, en resumen kNN nos vale para establecer grupos de vecinos, es un algortimo muy útil.\n"
   ]
  },
  {
   "cell_type": "code",
   "execution_count": 20,
   "metadata": {},
   "outputs": [
    {
     "data": {
      "text/plain": [
       "work_year             0\n",
       "experience_level      0\n",
       "employment_type       0\n",
       "job_title             0\n",
       "salary                0\n",
       "salary_currency       0\n",
       "salary_in_usd         0\n",
       "employee_residence    0\n",
       "remote_ratio          0\n",
       "company_location      0\n",
       "company_size          0\n",
       "dtype: int64"
      ]
     },
     "execution_count": 20,
     "metadata": {},
     "output_type": "execute_result"
    }
   ],
   "source": [
    "df.isnull().sum() #saber cuantos datos nulos hay en cada columnas"
   ]
  },
  {
   "cell_type": "markdown",
   "metadata": {},
   "source": [
    "### **3 - Revisar valores duplicados y eliminarlos o no**\n",
    "\n",
    "Se eliminan o se mantienen a juicio del analista.\n",
    "\n",
    "La funcion nos dirá las filas que se repiten todos los parámetros.\n",
    "\n",
    "Se realiza con la línea:\n",
    "```Python\n",
    "df.duplicated().sum()\n",
    "```\n",
    "##### ***Sintaxis de __.duplicated()__\n",
    "```Python\n",
    "DataFrame.duplicated(subset=None, keep='first')\n",
    "```\n",
    "- **subset (opcional)**: Especifica las columnas que deben considerarse al buscar duplicados. Si no se proporciona, se consideran todas las columnas del DataFrame.Si quieres buscar duplicados basándote solo en algunas columnas, puedes pasar una lista de nombres de columnas.\n",
    "- **keep (opcional)**: Determina qué duplicado(s) marcar como True (es decir, identificar como duplicado).\n",
    "        'first' (predeterminado): Marca todas las ocurrencias como duplicadas excepto la primera.\n",
    "        'last': Marca todas las ocurrencias como duplicadas excepto la última.\n",
    "        False: Marca todas las ocurrencias de duplicados como duplicadas (incluyendo la primera).\n"
   ]
  },
  {
   "cell_type": "code",
   "execution_count": 22,
   "metadata": {},
   "outputs": [
    {
     "data": {
      "text/plain": [
       "1171"
      ]
     },
     "execution_count": 22,
     "metadata": {},
     "output_type": "execute_result"
    }
   ],
   "source": [
    "df.duplicated().sum() # saber los valores duplicados\n"
   ]
  },
  {
   "cell_type": "markdown",
   "metadata": {},
   "source": [
    "Crear función para saber la cantidad de filas repetidas que tenemos ya que esta información tampoco nos va a ser muy útil.\n",
    "\n"
   ]
  },
  {
   "cell_type": "code",
   "execution_count": 27,
   "metadata": {},
   "outputs": [
    {
     "data": {
      "text/html": [
       "<div>\n",
       "<style scoped>\n",
       "    .dataframe tbody tr th:only-of-type {\n",
       "        vertical-align: middle;\n",
       "    }\n",
       "\n",
       "    .dataframe tbody tr th {\n",
       "        vertical-align: top;\n",
       "    }\n",
       "\n",
       "    .dataframe thead th {\n",
       "        text-align: right;\n",
       "    }\n",
       "</style>\n",
       "<table border=\"1\" class=\"dataframe\">\n",
       "  <thead>\n",
       "    <tr style=\"text-align: right;\">\n",
       "      <th></th>\n",
       "      <th></th>\n",
       "      <th></th>\n",
       "      <th></th>\n",
       "      <th></th>\n",
       "      <th></th>\n",
       "      <th></th>\n",
       "      <th></th>\n",
       "      <th></th>\n",
       "      <th></th>\n",
       "      <th></th>\n",
       "      <th>count</th>\n",
       "    </tr>\n",
       "    <tr>\n",
       "      <th>work_year</th>\n",
       "      <th>experience_level</th>\n",
       "      <th>employment_type</th>\n",
       "      <th>job_title</th>\n",
       "      <th>salary</th>\n",
       "      <th>salary_currency</th>\n",
       "      <th>salary_in_usd</th>\n",
       "      <th>employee_residence</th>\n",
       "      <th>remote_ratio</th>\n",
       "      <th>company_location</th>\n",
       "      <th>company_size</th>\n",
       "      <th></th>\n",
       "    </tr>\n",
       "  </thead>\n",
       "  <tbody>\n",
       "    <tr>\n",
       "      <th rowspan=\"2\" valign=\"top\">2022</th>\n",
       "      <th rowspan=\"2\" valign=\"top\">SE</th>\n",
       "      <th rowspan=\"2\" valign=\"top\">FT</th>\n",
       "      <th rowspan=\"2\" valign=\"top\">Data Scientist</th>\n",
       "      <th>191475</th>\n",
       "      <th>USD</th>\n",
       "      <th>191475</th>\n",
       "      <th>US</th>\n",
       "      <th>100</th>\n",
       "      <th>US</th>\n",
       "      <th>M</th>\n",
       "      <td>21</td>\n",
       "    </tr>\n",
       "    <tr>\n",
       "      <th>141525</th>\n",
       "      <th>USD</th>\n",
       "      <th>141525</th>\n",
       "      <th>US</th>\n",
       "      <th>100</th>\n",
       "      <th>US</th>\n",
       "      <th>M</th>\n",
       "      <td>21</td>\n",
       "    </tr>\n",
       "    <tr>\n",
       "      <th rowspan=\"2\" valign=\"top\">2023</th>\n",
       "      <th rowspan=\"2\" valign=\"top\">SE</th>\n",
       "      <th rowspan=\"2\" valign=\"top\">FT</th>\n",
       "      <th rowspan=\"2\" valign=\"top\">Data Engineer</th>\n",
       "      <th>252000</th>\n",
       "      <th>USD</th>\n",
       "      <th>252000</th>\n",
       "      <th>US</th>\n",
       "      <th>0</th>\n",
       "      <th>US</th>\n",
       "      <th>M</th>\n",
       "      <td>13</td>\n",
       "    </tr>\n",
       "    <tr>\n",
       "      <th>129000</th>\n",
       "      <th>USD</th>\n",
       "      <th>129000</th>\n",
       "      <th>US</th>\n",
       "      <th>0</th>\n",
       "      <th>US</th>\n",
       "      <th>M</th>\n",
       "      <td>13</td>\n",
       "    </tr>\n",
       "    <tr>\n",
       "      <th rowspan=\"3\" valign=\"top\">2022</th>\n",
       "      <th rowspan=\"3\" valign=\"top\">SE</th>\n",
       "      <th rowspan=\"3\" valign=\"top\">FT</th>\n",
       "      <th>Data Engineer</th>\n",
       "      <th>130000</th>\n",
       "      <th>USD</th>\n",
       "      <th>130000</th>\n",
       "      <th>US</th>\n",
       "      <th>0</th>\n",
       "      <th>US</th>\n",
       "      <th>M</th>\n",
       "      <td>12</td>\n",
       "    </tr>\n",
       "    <tr>\n",
       "      <th>...</th>\n",
       "      <th>...</th>\n",
       "      <th>...</th>\n",
       "      <th>...</th>\n",
       "      <th>...</th>\n",
       "      <th>...</th>\n",
       "      <th>...</th>\n",
       "      <th>...</th>\n",
       "      <td>...</td>\n",
       "    </tr>\n",
       "    <tr>\n",
       "      <th>Data Scientist</th>\n",
       "      <th>119300</th>\n",
       "      <th>USD</th>\n",
       "      <th>119300</th>\n",
       "      <th>US</th>\n",
       "      <th>0</th>\n",
       "      <th>US</th>\n",
       "      <th>L</th>\n",
       "      <td>2</td>\n",
       "    </tr>\n",
       "    <tr>\n",
       "      <th rowspan=\"2\" valign=\"top\">2023</th>\n",
       "      <th rowspan=\"2\" valign=\"top\">SE</th>\n",
       "      <th rowspan=\"2\" valign=\"top\">FT</th>\n",
       "      <th rowspan=\"2\" valign=\"top\">Data Quality Analyst</th>\n",
       "      <th>100000</th>\n",
       "      <th>USD</th>\n",
       "      <th>100000</th>\n",
       "      <th>US</th>\n",
       "      <th>0</th>\n",
       "      <th>US</th>\n",
       "      <th>M</th>\n",
       "      <td>2</td>\n",
       "    </tr>\n",
       "    <tr>\n",
       "      <th>80000</th>\n",
       "      <th>USD</th>\n",
       "      <th>80000</th>\n",
       "      <th>US</th>\n",
       "      <th>0</th>\n",
       "      <th>US</th>\n",
       "      <th>M</th>\n",
       "      <td>2</td>\n",
       "    </tr>\n",
       "    <tr>\n",
       "      <th>2022</th>\n",
       "      <th>EN</th>\n",
       "      <th>FT</th>\n",
       "      <th>Data Analyst</th>\n",
       "      <th>50000</th>\n",
       "      <th>USD</th>\n",
       "      <th>50000</th>\n",
       "      <th>US</th>\n",
       "      <th>50</th>\n",
       "      <th>US</th>\n",
       "      <th>L</th>\n",
       "      <td>2</td>\n",
       "    </tr>\n",
       "    <tr>\n",
       "      <th>2023</th>\n",
       "      <th>MI</th>\n",
       "      <th>FT</th>\n",
       "      <th>Data Analyst</th>\n",
       "      <th>85000</th>\n",
       "      <th>USD</th>\n",
       "      <th>85000</th>\n",
       "      <th>US</th>\n",
       "      <th>0</th>\n",
       "      <th>US</th>\n",
       "      <th>M</th>\n",
       "      <td>2</td>\n",
       "    </tr>\n",
       "  </tbody>\n",
       "</table>\n",
       "<p>544 rows × 1 columns</p>\n",
       "</div>"
      ],
      "text/plain": [
       "                                                                                                                                                                    count\n",
       "work_year experience_level employment_type job_title            salary salary_currency salary_in_usd employee_residence remote_ratio company_location company_size       \n",
       "2022      SE               FT              Data Scientist       191475 USD             191475        US                 100          US               M                21\n",
       "                                                                141525 USD             141525        US                 100          US               M                21\n",
       "2023      SE               FT              Data Engineer        252000 USD             252000        US                 0            US               M                13\n",
       "                                                                129000 USD             129000        US                 0            US               M                13\n",
       "2022      SE               FT              Data Engineer        130000 USD             130000        US                 0            US               M                12\n",
       "...                                                                                                                                                                   ...\n",
       "                                           Data Scientist       119300 USD             119300        US                 0            US               L                 2\n",
       "2023      SE               FT              Data Quality Analyst 100000 USD             100000        US                 0            US               M                 2\n",
       "                                                                80000  USD             80000         US                 0            US               M                 2\n",
       "2022      EN               FT              Data Analyst         50000  USD             50000         US                 50           US               L                 2\n",
       "2023      MI               FT              Data Analyst         85000  USD             85000         US                 0            US               M                 2\n",
       "\n",
       "[544 rows x 1 columns]"
      ]
     },
     "execution_count": 27,
     "metadata": {},
     "output_type": "execute_result"
    }
   ],
   "source": [
    "duplicados=pd.DataFrame(df.value_counts())\n",
    "duplicados[duplicados['count']>1]\n"
   ]
  },
  {
   "cell_type": "code",
   "execution_count": 29,
   "metadata": {},
   "outputs": [
    {
     "data": {
      "text/plain": [
       "0"
      ]
     },
     "execution_count": 29,
     "metadata": {},
     "output_type": "execute_result"
    }
   ],
   "source": [
    "#Eliminamos las filas duplicadas\n",
    "df.drop_duplicates(inplace=True)\n",
    "df.duplicated().sum() \n"
   ]
  },
  {
   "cell_type": "markdown",
   "metadata": {},
   "source": [
    "#### PRE-PROCESAMIENTO"
   ]
  },
  {
   "cell_type": "markdown",
   "metadata": {},
   "source": [
    "#### EDA (Exploratory Data Analisys)"
   ]
  },
  {
   "cell_type": "code",
   "execution_count": 30,
   "metadata": {},
   "outputs": [
    {
     "data": {
      "text/html": [
       "<div>\n",
       "<style scoped>\n",
       "    .dataframe tbody tr th:only-of-type {\n",
       "        vertical-align: middle;\n",
       "    }\n",
       "\n",
       "    .dataframe tbody tr th {\n",
       "        vertical-align: top;\n",
       "    }\n",
       "\n",
       "    .dataframe thead th {\n",
       "        text-align: right;\n",
       "    }\n",
       "</style>\n",
       "<table border=\"1\" class=\"dataframe\">\n",
       "  <thead>\n",
       "    <tr style=\"text-align: right;\">\n",
       "      <th></th>\n",
       "      <th>work_year</th>\n",
       "      <th>experience_level</th>\n",
       "      <th>employment_type</th>\n",
       "      <th>job_title</th>\n",
       "      <th>salary</th>\n",
       "      <th>salary_currency</th>\n",
       "      <th>salary_in_usd</th>\n",
       "      <th>employee_residence</th>\n",
       "      <th>remote_ratio</th>\n",
       "      <th>company_location</th>\n",
       "      <th>company_size</th>\n",
       "    </tr>\n",
       "  </thead>\n",
       "  <tbody>\n",
       "    <tr>\n",
       "      <th>0</th>\n",
       "      <td>2023</td>\n",
       "      <td>SE</td>\n",
       "      <td>FT</td>\n",
       "      <td>Principal Data Scientist</td>\n",
       "      <td>80000</td>\n",
       "      <td>EUR</td>\n",
       "      <td>85847</td>\n",
       "      <td>ES</td>\n",
       "      <td>100</td>\n",
       "      <td>ES</td>\n",
       "      <td>L</td>\n",
       "    </tr>\n",
       "  </tbody>\n",
       "</table>\n",
       "</div>"
      ],
      "text/plain": [
       "   work_year experience_level employment_type                 job_title  \\\n",
       "0       2023               SE              FT  Principal Data Scientist   \n",
       "\n",
       "   salary salary_currency  salary_in_usd employee_residence  remote_ratio  \\\n",
       "0   80000             EUR          85847                 ES           100   \n",
       "\n",
       "  company_location company_size  \n",
       "0               ES            L  "
      ]
     },
     "execution_count": 30,
     "metadata": {},
     "output_type": "execute_result"
    }
   ],
   "source": [
    "df.head(1)"
   ]
  },
  {
   "cell_type": "markdown",
   "metadata": {},
   "source": [
    "Una parte muy importante si no te dan ningún objetivo tenemos que hacernos preguntas importantes sobre los datos.\n",
    "- En que país se cobra más \n",
    "- Que compañía paga más\n",
    "- etc."
   ]
  },
  {
   "cell_type": "markdown",
   "metadata": {},
   "source": [
    "Pregunta: ¿En que puesto se cobra más?\n"
   ]
  },
  {
   "cell_type": "code",
   "execution_count": null,
   "metadata": {},
   "outputs": [],
   "source": []
  },
  {
   "cell_type": "markdown",
   "metadata": {},
   "source": [
    "Pregunta: País de residencia donde se cobra más"
   ]
  },
  {
   "cell_type": "code",
   "execution_count": null,
   "metadata": {},
   "outputs": [],
   "source": []
  },
  {
   "cell_type": "markdown",
   "metadata": {},
   "source": [
    "Pregunta: por que porcentage promedio se aumenta el salario entre nivel de experiencia"
   ]
  },
  {
   "cell_type": "code",
   "execution_count": null,
   "metadata": {},
   "outputs": [],
   "source": []
  },
  {
   "cell_type": "markdown",
   "metadata": {},
   "source": [
    "Pregunta: en que pais se cobra  mas por tipo de empleo?"
   ]
  },
  {
   "cell_type": "code",
   "execution_count": null,
   "metadata": {},
   "outputs": [],
   "source": []
  },
  {
   "cell_type": "markdown",
   "metadata": {},
   "source": [
    "Pregunta: ¿El nivel de  experiencia es proporcional al salario "
   ]
  },
  {
   "cell_type": "code",
   "execution_count": null,
   "metadata": {},
   "outputs": [],
   "source": []
  },
  {
   "cell_type": "markdown",
   "metadata": {},
   "source": [
    "Pregunta: nivel de expriencia mas requerido"
   ]
  },
  {
   "cell_type": "code",
   "execution_count": null,
   "metadata": {},
   "outputs": [],
   "source": []
  }
 ],
 "metadata": {
  "kernelspec": {
   "display_name": "Python 3",
   "language": "python",
   "name": "python3"
  },
  "language_info": {
   "codemirror_mode": {
    "name": "ipython",
    "version": 3
   },
   "file_extension": ".py",
   "mimetype": "text/x-python",
   "name": "python",
   "nbconvert_exporter": "python",
   "pygments_lexer": "ipython3",
   "version": "3.11.9"
  }
 },
 "nbformat": 4,
 "nbformat_minor": 2
}
